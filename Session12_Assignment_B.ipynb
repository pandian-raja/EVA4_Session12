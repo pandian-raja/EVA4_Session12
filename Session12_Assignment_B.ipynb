{
  "nbformat": 4,
  "nbformat_minor": 0,
  "metadata": {
    "colab": {
      "name": "Untitled9.ipynb",
      "provenance": [],
      "collapsed_sections": [],
      "authorship_tag": "ABX9TyOSkxxUqpupg+15ZDAGlKXk",
      "include_colab_link": true
    },
    "kernelspec": {
      "name": "python3",
      "display_name": "Python 3"
    }
  },
  "cells": [
    {
      "cell_type": "markdown",
      "metadata": {
        "id": "view-in-github",
        "colab_type": "text"
      },
      "source": [
        "<a href=\"https://colab.research.google.com/github/pandian-raja/EVA4_Session12/blob/master/Session12_Assignment_B.ipynb\" target=\"_parent\"><img src=\"https://colab.research.google.com/assets/colab-badge.svg\" alt=\"Open In Colab\"/></a>"
      ]
    },
    {
      "cell_type": "code",
      "metadata": {
        "id": "y6vgMrE-m-o_",
        "colab_type": "code",
        "colab": {
          "base_uri": "https://localhost:8080/",
          "height": 35
        },
        "outputId": "ef990e77-d16a-43a8-f3b5-ede19a1c3ef7"
      },
      "source": [
        "import numpy as np\n",
        "import pandas as pd\n",
        "from google.colab import drive\n",
        "drive.mount('/content/gdrive')"
      ],
      "execution_count": 260,
      "outputs": [
        {
          "output_type": "stream",
          "text": [
            "Drive already mounted at /content/gdrive; to attempt to forcibly remount, call drive.mount(\"/content/gdrive\", force_remount=True).\n"
          ],
          "name": "stdout"
        }
      ]
    },
    {
      "cell_type": "code",
      "metadata": {
        "id": "yDgSnA0N84nT",
        "colab_type": "code",
        "colab": {}
      },
      "source": [
        "import json\n",
        "dog_cooc_dataset = \"/content/gdrive/My Drive/EVA 4/via_export_coco_new.json\"\n",
        "annot_cooc = json.load(open(dog_cooc_dataset))"
      ],
      "execution_count": 0,
      "outputs": []
    },
    {
      "cell_type": "code",
      "metadata": {
        "id": "K3kpyYy0Y6Km",
        "colab_type": "code",
        "outputId": "822d21a9-c8e7-4b50-c393-f6dcb395fbae",
        "colab": {
          "base_uri": "https://localhost:8080/",
          "height": 198
        }
      },
      "source": [
        "import pandas as pd\n",
        "import math\n",
        "df = pd.DataFrame()\n",
        "\n",
        "data = []\n",
        "for key, value in annot_cooc.items():\n",
        "    if key != \"info\":\n",
        "        if key == \"images\":\n",
        "            count = 0\n",
        "            for img in value:\n",
        "                for k, v in img.items():\n",
        "                    if k == \"file_name\":\n",
        "                        dic[count] = {'name': v }\n",
        "                    if k == \"width\":\n",
        "                        w = v\n",
        "                    if k == \"height\":\n",
        "                        h = v\n",
        "                dic[count]['image_w'] = w\n",
        "                dic[count]['image_h'] = h\n",
        "                count+=1\n",
        "                    \n",
        "        if key == \"annotations\":\n",
        "            count = 0\n",
        "            for val in value:\n",
        "                for k, v in val.items():\n",
        "                    if k == \"bbox\":\n",
        "                        dic[count]['x'] = v[0]\n",
        "                        dic[count]['y'] = v[1]\n",
        "                        dic[count]['w'] = v[2]\n",
        "                        dic[count]['h'] = v[3]\n",
        "                count+=1\n",
        "            \n",
        "        if key == \"licenses\":\n",
        "            break\n",
        "        \n",
        "count = 0\n",
        "for k , v in dic.items():\n",
        "    for key, val in v.items():\n",
        "        if key == \"w\":\n",
        "            w = val\n",
        "        if key == \"h\":\n",
        "            h = val\n",
        "        if key == \"image_h\":\n",
        "            image_h = val\n",
        "        if key == \"image_w\":\n",
        "            image_w = val\n",
        "    dic[count]['height'] = image_h/h\n",
        "    dic[count]['width'] = s['width']/w\n",
        "    dic[count]['log_height'] = math.log(s['height']/h)\n",
        "    dic[count]['log_width'] = math.log(s['width']/h)\n",
        "    count +=1\n",
        "\n",
        "df = pd.DataFrame.from_dict(dic, orient='index')\n",
        "df.head()\n"
      ],
      "execution_count": 259,
      "outputs": [
        {
          "output_type": "execute_result",
          "data": {
            "text/html": [
              "<div>\n",
              "<style scoped>\n",
              "    .dataframe tbody tr th:only-of-type {\n",
              "        vertical-align: middle;\n",
              "    }\n",
              "\n",
              "    .dataframe tbody tr th {\n",
              "        vertical-align: top;\n",
              "    }\n",
              "\n",
              "    .dataframe thead th {\n",
              "        text-align: right;\n",
              "    }\n",
              "</style>\n",
              "<table border=\"1\" class=\"dataframe\">\n",
              "  <thead>\n",
              "    <tr style=\"text-align: right;\">\n",
              "      <th></th>\n",
              "      <th>name</th>\n",
              "      <th>image_w</th>\n",
              "      <th>image_h</th>\n",
              "      <th>x</th>\n",
              "      <th>y</th>\n",
              "      <th>w</th>\n",
              "      <th>h</th>\n",
              "      <th>height</th>\n",
              "      <th>width</th>\n",
              "      <th>log_height</th>\n",
              "      <th>log_width</th>\n",
              "    </tr>\n",
              "  </thead>\n",
              "  <tbody>\n",
              "    <tr>\n",
              "      <th>0</th>\n",
              "      <td>1.jpg</td>\n",
              "      <td>381</td>\n",
              "      <td>499</td>\n",
              "      <td>66</td>\n",
              "      <td>46</td>\n",
              "      <td>277</td>\n",
              "      <td>439</td>\n",
              "      <td>1.136674</td>\n",
              "      <td>0.649819</td>\n",
              "      <td>-0.796232</td>\n",
              "      <td>-0.891543</td>\n",
              "    </tr>\n",
              "    <tr>\n",
              "      <th>1</th>\n",
              "      <td>2.jpg</td>\n",
              "      <td>296</td>\n",
              "      <td>299</td>\n",
              "      <td>4</td>\n",
              "      <td>18</td>\n",
              "      <td>267</td>\n",
              "      <td>279</td>\n",
              "      <td>1.071685</td>\n",
              "      <td>0.674157</td>\n",
              "      <td>-0.342945</td>\n",
              "      <td>-0.438255</td>\n",
              "    </tr>\n",
              "    <tr>\n",
              "      <th>2</th>\n",
              "      <td>3.jpg</td>\n",
              "      <td>300</td>\n",
              "      <td>299</td>\n",
              "      <td>29</td>\n",
              "      <td>50</td>\n",
              "      <td>230</td>\n",
              "      <td>208</td>\n",
              "      <td>1.437500</td>\n",
              "      <td>0.782609</td>\n",
              "      <td>-0.049271</td>\n",
              "      <td>-0.144581</td>\n",
              "    </tr>\n",
              "    <tr>\n",
              "      <th>3</th>\n",
              "      <td>4.jpg</td>\n",
              "      <td>374</td>\n",
              "      <td>288</td>\n",
              "      <td>11</td>\n",
              "      <td>32</td>\n",
              "      <td>359</td>\n",
              "      <td>238</td>\n",
              "      <td>1.210084</td>\n",
              "      <td>0.501393</td>\n",
              "      <td>-0.184004</td>\n",
              "      <td>-0.279314</td>\n",
              "    </tr>\n",
              "    <tr>\n",
              "      <th>4</th>\n",
              "      <td>5.jpg</td>\n",
              "      <td>315</td>\n",
              "      <td>465</td>\n",
              "      <td>49</td>\n",
              "      <td>87</td>\n",
              "      <td>193</td>\n",
              "      <td>317</td>\n",
              "      <td>1.466877</td>\n",
              "      <td>0.932642</td>\n",
              "      <td>-0.470635</td>\n",
              "      <td>-0.565945</td>\n",
              "    </tr>\n",
              "  </tbody>\n",
              "</table>\n",
              "</div>"
            ],
            "text/plain": [
              "    name  image_w  image_h   x  ...    height     width  log_height  log_width\n",
              "0  1.jpg      381      499  66  ...  1.136674  0.649819   -0.796232  -0.891543\n",
              "1  2.jpg      296      299   4  ...  1.071685  0.674157   -0.342945  -0.438255\n",
              "2  3.jpg      300      299  29  ...  1.437500  0.782609   -0.049271  -0.144581\n",
              "3  4.jpg      374      288  11  ...  1.210084  0.501393   -0.184004  -0.279314\n",
              "4  5.jpg      315      465  49  ...  1.466877  0.932642   -0.470635  -0.565945\n",
              "\n",
              "[5 rows x 11 columns]"
            ]
          },
          "metadata": {
            "tags": []
          },
          "execution_count": 259
        }
      ]
    },
    {
      "cell_type": "code",
      "metadata": {
        "id": "WLD2hSz9dumO",
        "colab_type": "code",
        "colab": {
          "base_uri": "https://localhost:8080/",
          "height": 296
        },
        "outputId": "1c04be0d-972c-4c0d-df52-4a4180b56581"
      },
      "source": [
        "df.plot.scatter('width', 'height')"
      ],
      "execution_count": 244,
      "outputs": [
        {
          "output_type": "execute_result",
          "data": {
            "text/plain": [
              "<matplotlib.axes._subplots.AxesSubplot at 0x7f3414151278>"
            ]
          },
          "metadata": {
            "tags": []
          },
          "execution_count": 244
        },
        {
          "output_type": "display_data",
          "data": {
            "image/png": "[encoded data removed]",
            "text/plain": [
              "<Figure size 432x288 with 1 Axes>"
            ]
          },
          "metadata": {
            "tags": [],
            "needs_background": "light"
          }
        }
      ]
    },
    {
      "cell_type": "code",
      "metadata": {
        "id": "0Ox0vmfOkZHd",
        "colab_type": "code",
        "colab": {
          "base_uri": "https://localhost:8080/",
          "height": 297
        },
        "outputId": "c712c339-71b0-4722-f858-e3f431c66134"
      },
      "source": [
        "df.plot.scatter('log_width', 'log_height')"
      ],
      "execution_count": 245,
      "outputs": [
        {
          "output_type": "execute_result",
          "data": {
            "text/plain": [
              "<matplotlib.axes._subplots.AxesSubplot at 0x7f341188e278>"
            ]
          },
          "metadata": {
            "tags": []
          },
          "execution_count": 245
        },
        {
          "output_type": "display_data",
          "data": {
            "image/png": "[encoded data removed]",
            "text/plain": [
              "<Figure size 432x288 with 1 Axes>"
            ]
          },
          "metadata": {
            "tags": [],
            "needs_background": "light"
          }
        }
      ]
    },
    {
      "cell_type": "code",
      "metadata": {
        "id": "WF-y0JIznzzp",
        "colab_type": "code",
        "colab": {
          "base_uri": "https://localhost:8080/",
          "height": 295
        },
        "outputId": "13cf07d2-5d3d-499c-ef29-e0d880abd805"
      },
      "source": [
        "wcss = []\n",
        "for i in range(1, 11):\n",
        "    kmeans = KMeans(n_clusters=i, init='k-means++', max_iter=300, n_init=10, random_state=0)\n",
        "    kmeans.fit(X)\n",
        "    wcss.append(kmeans.inertia_)\n",
        "plt.plot(range(1, 11), wcss)\n",
        "plt.title('Elbow Method')\n",
        "plt.xlabel('Number of clusters')\n",
        "plt.ylabel('WCSS')\n",
        "plt.show()"
      ],
      "execution_count": 264,
      "outputs": [
        {
          "output_type": "display_data",
          "data": {
            "image/png": "[encoded data removed]",
            "text/plain": [
              "<Figure size 432x288 with 1 Axes>"
            ]
          },
          "metadata": {
            "tags": [],
            "needs_background": "light"
          }
        }
      ]
    },
    {
      "cell_type": "code",
      "metadata": {
        "id": "QJxRs4r0n1-Y",
        "colab_type": "code",
        "colab": {
          "base_uri": "https://localhost:8080/",
          "height": 265
        },
        "outputId": "2f0b70c0-569c-4880-c8f2-36f4af7700c7"
      },
      "source": [
        "kmeans = KMeans(n_clusters=4, init='k-means++', max_iter=300, n_init=10, random_state=0)\n",
        "pred_y = kmeans.fit_predict(X)\n",
        "plt.scatter(X[:,0], X[:,1])\n",
        "plt.scatter(kmeans.cluster_centers_[:, 0], kmeans.cluster_centers_[:, 1], s=300, c='red')\n",
        "plt.show()"
      ],
      "execution_count": 262,
      "outputs": [
        {
          "output_type": "display_data",
          "data": {
            "image/png": "[encoded data removed]",
            "text/plain": [
              "<Figure size 432x288 with 1 Axes>"
            ]
          },
          "metadata": {
            "tags": [],
            "needs_background": "light"
          }
        }
      ]
    },
    {
      "cell_type": "code",
      "metadata": {
        "id": "FSVDWASXn5D4",
        "colab_type": "code",
        "colab": {}
      },
      "source": [
        ""
      ],
      "execution_count": 0,
      "outputs": []
    }
  ]
}