{
  "nbformat": 4,
  "nbformat_minor": 0,
  "metadata": {
    "colab": {
      "name": "Session 12.ipynb",
      "provenance": [],
      "collapsed_sections": [],
      "machine_shape": "hm",
      "authorship_tag": "ABX9TyMVXMEjvCmUcKZ60lRtlpNu",
      "include_colab_link": true
    },
    "kernelspec": {
      "name": "python3",
      "display_name": "Python 3"
    },
    "accelerator": "GPU"
  },
  "cells": [
    {
      "cell_type": "markdown",
      "metadata": {
        "id": "view-in-github",
        "colab_type": "text"
      },
      "source": [
        "<a href=\"https://colab.research.google.com/github/pandian-raja/EVA4_Session12/blob/master/Session_12.ipynb\" target=\"_parent\"><img src=\"https://colab.research.google.com/assets/colab-badge.svg\" alt=\"Open In Colab\"/></a>"
      ]
    },
    {
      "cell_type": "code",
      "metadata": {
        "id": "-pnMmwJ5ghV8",
        "colab_type": "code",
        "colab": {
          "base_uri": "https://localhost:8080/",
          "height": 225
        },
        "outputId": "f8a81dbd-0a3e-403d-d27d-43bc1d46f544"
      },
      "source": [
        "! git clone https://github.com/seshuad/IMagenet\n",
        "!git clone https://github.com/pandian-raja/EVA4_Session12.git\n"
      ],
      "execution_count": 19,
      "outputs": [
        {
          "output_type": "stream",
          "text": [
            "Cloning into 'IMagenet'...\n",
            "remote: Enumerating objects: 120594, done.\u001b[K\n",
            "remote: Total 120594 (delta 0), reused 0 (delta 0), pack-reused 120594\u001b[K\n",
            "Receiving objects: 100% (120594/120594), 212.68 MiB | 11.48 MiB/s, done.\n",
            "Resolving deltas: 100% (1115/1115), done.\n",
            "Checking out files: 100% (120206/120206), done.\n",
            "Cloning into 'EVA4_Session12'...\n",
            "remote: Enumerating objects: 33, done.\u001b[K\n",
            "remote: Counting objects: 100% (33/33), done.\u001b[K\n",
            "remote: Compressing objects: 100% (25/25), done.\u001b[K\n",
            "remote: Total 33 (delta 7), reused 0 (delta 0), pack-reused 0\u001b[K\n",
            "Unpacking objects: 100% (33/33), done.\n"
          ],
          "name": "stdout"
        }
      ]
    },
    {
      "cell_type": "code",
      "metadata": {
        "id": "i1IPBx4yx4vK",
        "colab_type": "code",
        "colab": {
          "base_uri": "https://localhost:8080/",
          "height": 35
        },
        "outputId": "36c84f42-825a-46cf-c6af-4e1b9407c7b7"
      },
      "source": [
        "!pip install torchsummary\n",
        "from torchsummary import summary"
      ],
      "execution_count": 21,
      "outputs": [
        {
          "output_type": "stream",
          "text": [
            "Requirement already satisfied: torchsummary in /usr/local/lib/python3.6/dist-packages (1.5.1)\n"
          ],
          "name": "stdout"
        }
      ]
    },
    {
      "cell_type": "code",
      "metadata": {
        "id": "TI3mxynQxnfs",
        "colab_type": "code",
        "colab": {}
      },
      "source": [
        "import os\n",
        "os.rename(\"EVA4_Session12\", \"EVA4\")"
      ],
      "execution_count": 0,
      "outputs": []
    },
    {
      "cell_type": "code",
      "metadata": {
        "id": "Zwnlqstrx-yh",
        "colab_type": "code",
        "colab": {
          "base_uri": "https://localhost:8080/",
          "height": 35
        },
        "outputId": "77086765-6a0e-41bf-dac5-1b8fb4835783"
      },
      "source": [
        "import EVA4.train_and_validate.train_and_validate as tv\n",
        "import EVA4.DataLoader.get_data as gd\n",
        "import EVA4.model.resnet as rs\n"
      ],
      "execution_count": 22,
      "outputs": [
        {
          "output_type": "stream",
          "text": [
            "torch.Size([1, 200])\n"
          ],
          "name": "stdout"
        }
      ]
    },
    {
      "cell_type": "code",
      "metadata": {
        "id": "41g8Jqk6yI9R",
        "colab_type": "code",
        "colab": {
          "base_uri": "https://localhost:8080/",
          "height": 104
        },
        "outputId": "6f4e2984-0852-40d2-9475-48188f10c411"
      },
      "source": [
        "trainloader, testloader, device = gd.getDataset()"
      ],
      "execution_count": 23,
      "outputs": [
        {
          "output_type": "stream",
          "text": [
            "CUDA Available? True\n",
            "starting loading data\n",
            "finished loading data, in 38.315335512161255 seconds\n",
            "77000\n",
            "33000\n"
          ],
          "name": "stdout"
        }
      ]
    },
    {
      "cell_type": "code",
      "metadata": {
        "id": "3MO_8YLsxq0a",
        "colab_type": "code",
        "colab": {}
      },
      "source": [
        "model = rs.ResNet18().to(device);"
      ],
      "execution_count": 0,
      "outputs": []
    },
    {
      "cell_type": "code",
      "metadata": {
        "id": "noNmKrrghqli",
        "colab_type": "code",
        "colab": {
          "base_uri": "https://localhost:8080/",
          "height": 1000
        },
        "outputId": "7a0f3d54-0c97-4c0a-eca9-ca7593251106"
      },
      "source": [
        "train_losses, train_acc, model,img,true_wrong,pred_wrong,test_acc,test_losses = tv.train(model,device,trainloader,testloader,24)"
      ],
      "execution_count": 14,
      "outputs": [
        {
          "output_type": "stream",
          "text": [
            "Loss=4.195265293121338 Batch_id=9624 Accuracy=6.97: 100%|██████████| 9625/9625 [03:42<00:00, 43.28it/s]\n",
            "  0%|          | 0/9625 [00:00<?, ?it/s]"
          ],
          "name": "stderr"
        },
        {
          "output_type": "stream",
          "text": [
            "\n",
            "Test set: Average loss: 3.9969, Accuracy: 4327/33000 (13.11%)\n",
            "\n"
          ],
          "name": "stdout"
        },
        {
          "output_type": "stream",
          "text": [
            "Loss=3.68227481842041 Batch_id=9624 Accuracy=15.25: 100%|██████████| 9625/9625 [03:42<00:00, 43.22it/s]\n",
            "  0%|          | 0/9625 [00:00<?, ?it/s]"
          ],
          "name": "stderr"
        },
        {
          "output_type": "stream",
          "text": [
            "\n",
            "Test set: Average loss: 3.5111, Accuracy: 6729/33000 (20.39%)\n",
            "\n"
          ],
          "name": "stdout"
        },
        {
          "output_type": "stream",
          "text": [
            "Loss=1.867814302444458 Batch_id=9624 Accuracy=22.17: 100%|██████████| 9625/9625 [03:45<00:00, 42.60it/s]\n",
            "  0%|          | 0/9625 [00:00<?, ?it/s]"
          ],
          "name": "stderr"
        },
        {
          "output_type": "stream",
          "text": [
            "\n",
            "Test set: Average loss: 3.2295, Accuracy: 8558/33000 (25.93%)\n",
            "\n"
          ],
          "name": "stdout"
        },
        {
          "output_type": "stream",
          "text": [
            "Loss=3.7164306640625 Batch_id=9624 Accuracy=27.88: 100%|██████████| 9625/9625 [03:45<00:00, 42.74it/s]\n",
            "  0%|          | 0/9625 [00:00<?, ?it/s]"
          ],
          "name": "stderr"
        },
        {
          "output_type": "stream",
          "text": [
            "\n",
            "Test set: Average loss: 3.0306, Accuracy: 9614/33000 (29.13%)\n",
            "\n"
          ],
          "name": "stdout"
        },
        {
          "output_type": "stream",
          "text": [
            "Loss=2.509547472000122 Batch_id=9624 Accuracy=32.53: 100%|██████████| 9625/9625 [03:43<00:00, 43.05it/s]\n",
            "  0%|          | 0/9625 [00:00<?, ?it/s]"
          ],
          "name": "stderr"
        },
        {
          "output_type": "stream",
          "text": [
            "\n",
            "Test set: Average loss: 2.7510, Accuracy: 11389/33000 (34.51%)\n",
            "\n"
          ],
          "name": "stdout"
        },
        {
          "output_type": "stream",
          "text": [
            "Loss=4.355255126953125 Batch_id=9624 Accuracy=36.42: 100%|██████████| 9625/9625 [03:42<00:00, 43.29it/s]\n",
            "  0%|          | 0/9625 [00:00<?, ?it/s]"
          ],
          "name": "stderr"
        },
        {
          "output_type": "stream",
          "text": [
            "\n",
            "Test set: Average loss: 2.6300, Accuracy: 12208/33000 (36.99%)\n",
            "\n"
          ],
          "name": "stdout"
        },
        {
          "output_type": "stream",
          "text": [
            "Loss=2.864000082015991 Batch_id=9624 Accuracy=39.78: 100%|██████████| 9625/9625 [03:42<00:00, 43.23it/s]\n",
            "  0%|          | 0/9625 [00:00<?, ?it/s]"
          ],
          "name": "stderr"
        },
        {
          "output_type": "stream",
          "text": [
            "\n",
            "Test set: Average loss: 2.5829, Accuracy: 12639/33000 (38.30%)\n",
            "\n"
          ],
          "name": "stdout"
        },
        {
          "output_type": "stream",
          "text": [
            "Loss=1.7794626951217651 Batch_id=9624 Accuracy=42.53: 100%|██████████| 9625/9625 [03:42<00:00, 43.23it/s]\n",
            "  0%|          | 0/9625 [00:00<?, ?it/s]"
          ],
          "name": "stderr"
        },
        {
          "output_type": "stream",
          "text": [
            "\n",
            "Test set: Average loss: 2.4458, Accuracy: 13540/33000 (41.03%)\n",
            "\n"
          ],
          "name": "stdout"
        },
        {
          "output_type": "stream",
          "text": [
            "Loss=2.7064669132232666 Batch_id=9624 Accuracy=45.12: 100%|██████████| 9625/9625 [03:42<00:00, 43.24it/s]\n",
            "  0%|          | 0/9625 [00:00<?, ?it/s]"
          ],
          "name": "stderr"
        },
        {
          "output_type": "stream",
          "text": [
            "\n",
            "Test set: Average loss: 2.4162, Accuracy: 13983/33000 (42.37%)\n",
            "\n"
          ],
          "name": "stdout"
        },
        {
          "output_type": "stream",
          "text": [
            "Loss=2.3165507316589355 Batch_id=9624 Accuracy=47.44: 100%|██████████| 9625/9625 [03:42<00:00, 43.23it/s]\n",
            "  0%|          | 0/9625 [00:00<?, ?it/s]"
          ],
          "name": "stderr"
        },
        {
          "output_type": "stream",
          "text": [
            "\n",
            "Test set: Average loss: 2.3710, Accuracy: 14208/33000 (43.05%)\n",
            "\n"
          ],
          "name": "stdout"
        },
        {
          "output_type": "stream",
          "text": [
            "Loss=3.087238073348999 Batch_id=9624 Accuracy=49.42: 100%|██████████| 9625/9625 [03:42<00:00, 43.25it/s]\n",
            "  0%|          | 0/9625 [00:00<?, ?it/s]"
          ],
          "name": "stderr"
        },
        {
          "output_type": "stream",
          "text": [
            "\n",
            "Test set: Average loss: 2.3424, Accuracy: 14681/33000 (44.49%)\n",
            "\n"
          ],
          "name": "stdout"
        },
        {
          "output_type": "stream",
          "text": [
            "Loss=1.3329492807388306 Batch_id=9624 Accuracy=51.59: 100%|██████████| 9625/9625 [03:42<00:00, 43.24it/s]\n",
            "  0%|          | 0/9625 [00:00<?, ?it/s]"
          ],
          "name": "stderr"
        },
        {
          "output_type": "stream",
          "text": [
            "\n",
            "Test set: Average loss: 2.2929, Accuracy: 14929/33000 (45.24%)\n",
            "\n"
          ],
          "name": "stdout"
        },
        {
          "output_type": "stream",
          "text": [
            "Loss=2.0326881408691406 Batch_id=9624 Accuracy=53.95: 100%|██████████| 9625/9625 [03:42<00:00, 43.28it/s]\n",
            "  0%|          | 0/9625 [00:00<?, ?it/s]"
          ],
          "name": "stderr"
        },
        {
          "output_type": "stream",
          "text": [
            "\n",
            "Test set: Average loss: 2.2719, Accuracy: 15324/33000 (46.44%)\n",
            "\n"
          ],
          "name": "stdout"
        },
        {
          "output_type": "stream",
          "text": [
            "Loss=2.3697097301483154 Batch_id=9624 Accuracy=56.34: 100%|██████████| 9625/9625 [03:42<00:00, 43.26it/s]\n",
            "  0%|          | 0/9625 [00:00<?, ?it/s]"
          ],
          "name": "stderr"
        },
        {
          "output_type": "stream",
          "text": [
            "\n",
            "Test set: Average loss: 2.2462, Accuracy: 15377/33000 (46.60%)\n",
            "\n"
          ],
          "name": "stdout"
        },
        {
          "output_type": "stream",
          "text": [
            "Loss=1.5750170946121216 Batch_id=9624 Accuracy=58.65: 100%|██████████| 9625/9625 [03:42<00:00, 43.24it/s]\n",
            "  0%|          | 0/9625 [00:00<?, ?it/s]"
          ],
          "name": "stderr"
        },
        {
          "output_type": "stream",
          "text": [
            "\n",
            "Test set: Average loss: 2.2130, Accuracy: 15757/33000 (47.75%)\n",
            "\n"
          ],
          "name": "stdout"
        },
        {
          "output_type": "stream",
          "text": [
            "Loss=1.0562868118286133 Batch_id=9624 Accuracy=61.03: 100%|██████████| 9625/9625 [03:42<00:00, 43.28it/s]\n",
            "  0%|          | 0/9625 [00:00<?, ?it/s]"
          ],
          "name": "stderr"
        },
        {
          "output_type": "stream",
          "text": [
            "\n",
            "Test set: Average loss: 2.2357, Accuracy: 15977/33000 (48.42%)\n",
            "\n"
          ],
          "name": "stdout"
        },
        {
          "output_type": "stream",
          "text": [
            "Loss=1.0520386695861816 Batch_id=9624 Accuracy=63.65: 100%|██████████| 9625/9625 [03:44<00:00, 42.80it/s]\n",
            "  0%|          | 0/9625 [00:00<?, ?it/s]"
          ],
          "name": "stderr"
        },
        {
          "output_type": "stream",
          "text": [
            "\n",
            "Test set: Average loss: 2.1967, Accuracy: 16123/33000 (48.86%)\n",
            "\n"
          ],
          "name": "stdout"
        },
        {
          "output_type": "stream",
          "text": [
            "Loss=1.121639370918274 Batch_id=9624 Accuracy=67.13: 100%|██████████| 9625/9625 [03:44<00:00, 42.91it/s]\n",
            "  0%|          | 0/9625 [00:00<?, ?it/s]"
          ],
          "name": "stderr"
        },
        {
          "output_type": "stream",
          "text": [
            "\n",
            "Test set: Average loss: 2.1955, Accuracy: 16466/33000 (49.90%)\n",
            "\n"
          ],
          "name": "stdout"
        },
        {
          "output_type": "stream",
          "text": [
            "Loss=0.9661281108856201 Batch_id=9624 Accuracy=71.02: 100%|██████████| 9625/9625 [03:43<00:00, 43.00it/s]\n",
            "  0%|          | 0/9625 [00:00<?, ?it/s]"
          ],
          "name": "stderr"
        },
        {
          "output_type": "stream",
          "text": [
            "\n",
            "Test set: Average loss: 2.1868, Accuracy: 16566/33000 (50.20%)\n",
            "\n"
          ],
          "name": "stdout"
        },
        {
          "output_type": "stream",
          "text": [
            "Loss=0.8169068694114685 Batch_id=9624 Accuracy=75.26: 100%|██████████| 9625/9625 [03:46<00:00, 42.54it/s]\n",
            "  0%|          | 0/9625 [00:00<?, ?it/s]"
          ],
          "name": "stderr"
        },
        {
          "output_type": "stream",
          "text": [
            "\n",
            "Test set: Average loss: 2.2055, Accuracy: 17009/33000 (51.54%)\n",
            "\n"
          ],
          "name": "stdout"
        },
        {
          "output_type": "stream",
          "text": [
            "Loss=0.45250850915908813 Batch_id=9624 Accuracy=79.65: 100%|██████████| 9625/9625 [03:46<00:00, 42.41it/s]\n",
            "  0%|          | 0/9625 [00:00<?, ?it/s]"
          ],
          "name": "stderr"
        },
        {
          "output_type": "stream",
          "text": [
            "\n",
            "Test set: Average loss: 2.2099, Accuracy: 17244/33000 (52.25%)\n",
            "\n"
          ],
          "name": "stdout"
        },
        {
          "output_type": "stream",
          "text": [
            "Loss=0.9179661870002747 Batch_id=9624 Accuracy=84.14: 100%|██████████| 9625/9625 [03:46<00:00, 42.42it/s]\n",
            "  0%|          | 0/9625 [00:00<?, ?it/s]"
          ],
          "name": "stderr"
        },
        {
          "output_type": "stream",
          "text": [
            "\n",
            "Test set: Average loss: 2.2321, Accuracy: 17253/33000 (52.28%)\n",
            "\n"
          ],
          "name": "stdout"
        },
        {
          "output_type": "stream",
          "text": [
            "Loss=0.6734435558319092 Batch_id=9624 Accuracy=86.97: 100%|██████████| 9625/9625 [03:46<00:00, 42.56it/s]\n",
            "  0%|          | 0/9625 [00:00<?, ?it/s]"
          ],
          "name": "stderr"
        },
        {
          "output_type": "stream",
          "text": [
            "\n",
            "Test set: Average loss: 2.2185, Accuracy: 17493/33000 (53.01%)\n",
            "\n"
          ],
          "name": "stdout"
        },
        {
          "output_type": "stream",
          "text": [
            "Loss=0.5851283073425293 Batch_id=9624 Accuracy=88.32: 100%|██████████| 9625/9625 [03:42<00:00, 43.31it/s]\n"
          ],
          "name": "stderr"
        },
        {
          "output_type": "stream",
          "text": [
            "\n",
            "Test set: Average loss: 2.2281, Accuracy: 17487/33000 (52.99%)\n",
            "\n"
          ],
          "name": "stdout"
        }
      ]
    }
  ]
}